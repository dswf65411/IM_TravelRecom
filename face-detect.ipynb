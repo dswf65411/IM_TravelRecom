{
 "cells": [
  {
   "cell_type": "code",
   "execution_count": 48,
   "metadata": {
    "collapsed": true
   },
   "outputs": [],
   "source": [
    "import time\n",
    "from pprint import pformat\n",
    "from facepp import API, File"
   ]
  },
  {
   "cell_type": "code",
   "execution_count": 15,
   "metadata": {
    "collapsed": true
   },
   "outputs": [],
   "source": [
    "SERVER = 'http://api.cn.faceplusplus.com/'\n",
    "\n",
    "API_KEY = 'a9ae55e1668c16b914570488f5f3c5d3'\n",
    "API_SECRET = 'uIal2BnB6BzEzvv9e--GT2QRY-9O6KZo'"
   ]
  },
  {
   "cell_type": "code",
   "execution_count": 98,
   "metadata": {
    "collapsed": false
   },
   "outputs": [],
   "source": [
    "class Face:\n",
    "    def __init__(self, index, age, age_range, gender, race):\n",
    "        self.index = index\n",
    "        self.age = age\n",
    "        self.age_range = age_range\n",
    "        self.gender = gender\n",
    "        self.race = race"
   ]
  },
  {
   "cell_type": "code",
   "execution_count": 81,
   "metadata": {
    "collapsed": true
   },
   "outputs": [],
   "source": [
    "def print_result(hint, result):\n",
    "    def encode(obj):\n",
    "        if type(obj) is unicode:\n",
    "            return obj.encode('utf-8')\n",
    "        if type(obj) is dict:\n",
    "            return {encode(k): encode(v) for (k, v) in obj.iteritems()}\n",
    "        if type(obj) is list:\n",
    "            return [encode(i) for i in obj]\n",
    "        return obj\n",
    "    print hint\n",
    "    result = encode(result)\n",
    "    print '\\n'.join(['  ' + i for i in pformat(result, width = 75).split('\\n')])"
   ]
  },
  {
   "cell_type": "code",
   "execution_count": 110,
   "metadata": {
    "collapsed": false
   },
   "outputs": [],
   "source": [
    "def print_info(result):\n",
    "    people_num = len(result[\"face\"])\n",
    "    print(\"People number: %d\"%(people_num))\n",
    "    for i in range(0, people_num):\n",
    "        age_range = result[\"face\"][i][\"attribute\"][\"age\"][\"range\"]\n",
    "        age = result[\"face\"][i][\"attribute\"][\"age\"][\"value\"]\n",
    "        gender = result[\"face\"][i][\"attribute\"][\"gender\"][\"value\"]\n",
    "        race = result[\"face\"][i][\"attribute\"][\"race\"][\"value\"]\n",
    "        print(\"Index: %d\"%(i))\n",
    "        print(\"Age: %d~%d\"%((age-age_range), (age+age_range)))\n",
    "        print(\"Gender: %s\"%(gender))\n",
    "        print(\"Race: %s\"%(race)+\"\\n\")"
   ]
  },
  {
   "cell_type": "code",
   "execution_count": 101,
   "metadata": {
    "collapsed": true
   },
   "outputs": [],
   "source": [
    "def get_info(result):\n",
    "    \"\"\"\n",
    "    return dictionary format\n",
    "    :param result\n",
    "    :result Face[]\n",
    "    \"\"\"\n",
    "    faces = []\n",
    "    people_num = len(result[\"face\"])\n",
    "    for i in range(0, people_num):\n",
    "        age_range = result[\"face\"][i][\"attribute\"][\"age\"][\"range\"]\n",
    "        age = result[\"face\"][i][\"attribute\"][\"age\"][\"value\"]\n",
    "        gender = result[\"face\"][i][\"attribute\"][\"gender\"][\"value\"]\n",
    "        race = result[\"face\"][i][\"attribute\"][\"race\"][\"value\"]\n",
    "        faces.append(Face(i, age, age_range, gender, race))\n",
    "    return faces"
   ]
  },
  {
   "cell_type": "code",
   "execution_count": 124,
   "metadata": {
    "collapsed": true
   },
   "outputs": [],
   "source": [
    "def detect_file(files):\n",
    "    api = API(API_KEY, API_SECRET)\n",
    "    results = []\n",
    "    for f in files:\n",
    "        result = api.detection.detect(img = File(f))\n",
    "        results.append(result)\n",
    "    return results"
   ]
  },
  {
   "cell_type": "code",
   "execution_count": 125,
   "metadata": {
    "collapsed": true
   },
   "outputs": [],
   "source": [
    "def detect_url(urls):\n",
    "    api = API(API_KEY, API_SECRET)\n",
    "    results = []\n",
    "    for u in urls:\n",
    "        result = api.detection.detect(url = u)\n",
    "        results.append(result)\n",
    "    return results"
   ]
  },
  {
   "cell_type": "code",
   "execution_count": 127,
   "metadata": {
    "collapsed": true
   },
   "outputs": [],
   "source": [
    "FILES = [\"/Users/kino/Desktop/IMProject/img/img1.jpg\", \"/Users/kino/Desktop/IMProject/img/img2.jpg\"]"
   ]
  },
  {
   "cell_type": "code",
   "execution_count": 121,
   "metadata": {
    "collapsed": true
   },
   "outputs": [],
   "source": [
    "URLS = [\"http://img2.imgtn.bdimg.com/it/u=2438644342,450269548&fm=21&gp=0.jpg\"]"
   ]
  },
  {
   "cell_type": "code",
   "execution_count": 128,
   "metadata": {
    "collapsed": false
   },
   "outputs": [
    {
     "name": "stdout",
     "output_type": "stream",
     "text": [
      "People number: 9\n",
      "Index: 0\n",
      "Age: 18~30\n",
      "Gender: Female\n",
      "Race: Asian\n",
      "\n",
      "Index: 1\n",
      "Age: 23~35\n",
      "Gender: Female\n",
      "Race: Asian\n",
      "\n",
      "Index: 2\n",
      "Age: 31~41\n",
      "Gender: Male\n",
      "Race: Asian\n",
      "\n",
      "Index: 3\n",
      "Age: 23~39\n",
      "Gender: Female\n",
      "Race: Asian\n",
      "\n",
      "Index: 4\n",
      "Age: 28~38\n",
      "Gender: Female\n",
      "Race: Asian\n",
      "\n",
      "Index: 5\n",
      "Age: 18~30\n",
      "Gender: Female\n",
      "Race: Asian\n",
      "\n",
      "Index: 6\n",
      "Age: 20~38\n",
      "Gender: Male\n",
      "Race: Black\n",
      "\n",
      "Index: 7\n",
      "Age: 17~31\n",
      "Gender: Female\n",
      "Race: Asian\n",
      "\n",
      "Index: 8\n",
      "Age: 22~46\n",
      "Gender: Male\n",
      "Race: Asian\n",
      "\n",
      "People number: 4\n",
      "Index: 0\n",
      "Age: 21~39\n",
      "Gender: Male\n",
      "Race: Asian\n",
      "\n",
      "Index: 1\n",
      "Age: 12~24\n",
      "Gender: Male\n",
      "Race: Asian\n",
      "\n",
      "Index: 2\n",
      "Age: 9~19\n",
      "Gender: Female\n",
      "Race: Asian\n",
      "\n",
      "Index: 3\n",
      "Age: 8~18\n",
      "Gender: Female\n",
      "Race: White\n",
      "\n"
     ]
    }
   ],
   "source": [
    "test = detect_file(FILES)\n",
    "for t in test:\n",
    "    print_info(t)\n",
    "tmp = get_info(test[0])"
   ]
  },
  {
   "cell_type": "code",
   "execution_count": 25,
   "metadata": {
    "collapsed": false
   },
   "outputs": [
    {
     "name": "stdout",
     "output_type": "stream",
     "text": [
      "\n",
      "  {'face': [{'attribute': {'age': {'range': 6, 'value': 24},\n",
      "                           'gender': {'confidence': 99.998,\n",
      "                                      'value': 'Female'},\n",
      "                           'race': {'confidence': 85.8834,\n",
      "                                    'value': 'Asian'},\n",
      "                           'smiling': {'value': 77.2139}},\n",
      "             'face_id': 'de10368ca391327741b17f1319a42914',\n",
      "             'position': {'center': {'x': 25.416667, 'y': 35.746102},\n",
      "                          'eye_left': {'x': 23.7935, 'y': 34.067483},\n",
      "                          'eye_right': {'x': 26.789667, 'y': 33.889532},\n",
      "                          'height': 8.240535,\n",
      "                          'mouth_left': {'x': 24.1495, 'y': 37.739866},\n",
      "                          'mouth_right': {'x': 26.8015, 'y': 37.525167},\n",
      "                          'nose': {'x': 25.715, 'y': 35.857906},\n",
      "                          'width': 6.166667},\n",
      "             'tag': ''},\n",
      "            {'attribute': {'age': {'range': 6, 'value': 29},\n",
      "                           'gender': {'confidence': 66.4767,\n",
      "                                      'value': 'Female'},\n",
      "                           'race': {'confidence': 97.2023,\n",
      "                                    'value': 'Asian'},\n",
      "                           'smiling': {'value': 80.3878}},\n",
      "             'face_id': '636ba3f12dfddad8b18c0e746e12f501',\n",
      "             'position': {'center': {'x': 78.416667, 'y': 41.091314},\n",
      "                          'eye_left': {'x': 76.981167, 'y': 39.757238},\n",
      "                          'eye_right': {'x': 79.601, 'y': 39.289087},\n",
      "                          'height': 7.7951,\n",
      "                          'mouth_left': {'x': 77.432833, 'y': 42.780178},\n",
      "                          'mouth_right': {'x': 80.020667,\n",
      "                                          'y': 42.267483},\n",
      "                          'nose': {'x': 78.193, 'y': 41.099332},\n",
      "                          'width': 5.833333},\n",
      "             'tag': ''},\n",
      "            {'attribute': {'age': {'range': 5, 'value': 36},\n",
      "                           'gender': {'confidence': 64.4769,\n",
      "                                      'value': 'Male'},\n",
      "                           'race': {'confidence': 85.6237,\n",
      "                                    'value': 'Asian'},\n",
      "                           'smiling': {'value': 55.3712}},\n",
      "             'face_id': '9156e7632ad67c650caf861b18164ab7',\n",
      "             'position': {'center': {'x': 44.083333, 'y': 34.4098},\n",
      "                          'eye_left': {'x': 42.768667, 'y': 32.955234},\n",
      "                          'eye_right': {'x': 45.146, 'y': 33.795768},\n",
      "                          'height': 7.349666,\n",
      "                          'mouth_left': {'x': 42.189667, 'y': 36.160134},\n",
      "                          'mouth_right': {'x': 44.437, 'y': 36.582628},\n",
      "                          'nose': {'x': 43.747667, 'y': 34.611136},\n",
      "                          'width': 5.5},\n",
      "             'tag': ''},\n",
      "            {'attribute': {'age': {'range': 8, 'value': 31},\n",
      "                           'gender': {'confidence': 76.1601,\n",
      "                                      'value': 'Female'},\n",
      "                           'race': {'confidence': 86.47319999999999,\n",
      "                                    'value': 'Asian'},\n",
      "                           'smiling': {'value': 41.4805}},\n",
      "             'face_id': '82e0f0f0060e7bd177d368e6adcb501d',\n",
      "             'position': {'center': {'x': 63.75, 'y': 44.209354},\n",
      "                          'eye_left': {'x': 62.1215, 'y': 42.924053},\n",
      "                          'eye_right': {'x': 64.919167, 'y': 42.47216},\n",
      "                          'height': 7.349666,\n",
      "                          'mouth_left': {'x': 62.406667, 'y': 45.81559},\n",
      "                          'mouth_right': {'x': 64.936333,\n",
      "                                          'y': 45.476169},\n",
      "                          'nose': {'x': 63.630667, 'y': 44.386414},\n",
      "                          'width': 5.5},\n",
      "             'tag': ''},\n",
      "            {'attribute': {'age': {'range': 5, 'value': 33},\n",
      "                           'gender': {'confidence': 78.7942,\n",
      "                                      'value': 'Female'},\n",
      "                           'race': {'confidence': 99.246,\n",
      "                                    'value': 'Asian'},\n",
      "                           'smiling': {'value': 79.2519}},\n",
      "             'face_id': '59e20c118aff6ed192d31e8735d45c23',\n",
      "             'position': {'center': {'x': 51.75, 'y': 39.977728},\n",
      "                          'eye_left': {'x': 50.4815, 'y': 38.479733},\n",
      "                          'eye_right': {'x': 53.092333, 'y': 38.295991},\n",
      "                          'height': 6.904232,\n",
      "                          'mouth_left': {'x': 50.5775, 'y': 41.59265},\n",
      "                          'mouth_right': {'x': 53.07, 'y': 41.407127},\n",
      "                          'nose': {'x': 52.181833, 'y': 40.165479},\n",
      "                          'width': 5.166667},\n",
      "             'tag': ''},\n",
      "            {'attribute': {'age': {'range': 6, 'value': 24},\n",
      "                           'gender': {'confidence': 99.8209,\n",
      "                                      'value': 'Female'},\n",
      "                           'race': {'confidence': 95.799,\n",
      "                                    'value': 'Asian'},\n",
      "                           'smiling': {'value': 74.0933}},\n",
      "             'face_id': '25acd3d7a7d29bbf31c928968bef5225',\n",
      "             'position': {'center': {'x': 65.583333, 'y': 29.732739},\n",
      "                          'eye_left': {'x': 64.485, 'y': 27.956347},\n",
      "                          'eye_right': {'x': 66.832167, 'y': 28.541648},\n",
      "                          'height': 6.904232,\n",
      "                          'mouth_left': {'x': 64.253667, 'y': 31.305345},\n",
      "                          'mouth_right': {'x': 66.238667,\n",
      "                                          'y': 31.405345},\n",
      "                          'nose': {'x': 65.835167, 'y': 29.87951},\n",
      "                          'width': 5.166667},\n",
      "             'tag': ''},\n",
      "            {'attribute': {'age': {'range': 9, 'value': 29},\n",
      "                           'gender': {'confidence': 92.6549,\n",
      "                                      'value': 'Male'},\n",
      "                           'race': {'confidence': 59.217699999999994,\n",
      "                                    'value': 'Black'},\n",
      "                           'smiling': {'value': 37.9707}},\n",
      "             'face_id': '85a6e93c34fbed51712e57c5a27cb006',\n",
      "             'position': {'center': {'x': 48.916667, 'y': 26.837416},\n",
      "                          'eye_left': {'x': 47.906667, 'y': 25.465479},\n",
      "                          'eye_right': {'x': 50.056, 'y': 25.803786},\n",
      "                          'height': 6.458797,\n",
      "                          'mouth_left': {'x': 47.8825, 'y': 28.3098},\n",
      "                          'mouth_right': {'x': 49.729, 'y': 28.536748},\n",
      "                          'nose': {'x': 48.890833, 'y': 26.572829},\n",
      "                          'width': 4.833333},\n",
      "             'tag': ''},\n",
      "            {'attribute': {'age': {'range': 7, 'value': 24},\n",
      "                           'gender': {'confidence': 96.2678,\n",
      "                                      'value': 'Female'},\n",
      "                           'race': {'confidence': 90.974,\n",
      "                                    'value': 'Asian'},\n",
      "                           'smiling': {'value': 54.3908}},\n",
      "             'face_id': '7ec7f30157f2d5d74ca247e6ffa114c5',\n",
      "             'position': {'center': {'x': 38.416667, 'y': 38.641425},\n",
      "                          'eye_left': {'x': 37.427, 'y': 36.887751},\n",
      "                          'eye_right': {'x': 39.946833, 'y': 37.612249},\n",
      "                          'height': 6.458797,\n",
      "                          'mouth_left': {'x': 36.796833, 'y': 40.30245},\n",
      "                          'mouth_right': {'x': 38.958167,\n",
      "                                          'y': 40.806236},\n",
      "                          'nose': {'x': 38.263667, 'y': 39.132739},\n",
      "                          'width': 4.833333},\n",
      "             'tag': ''},\n",
      "            {'attribute': {'age': {'range': 12, 'value': 34},\n",
      "                           'gender': {'confidence': 99.9906,\n",
      "                                      'value': 'Male'},\n",
      "                           'race': {'confidence': 64.9935,\n",
      "                                    'value': 'Asian'},\n",
      "                           'smiling': {'value': 53.6075}},\n",
      "             'face_id': 'b0141b9e4d5cdde85f02428aa8c1e446',\n",
      "             'position': {'center': {'x': 56.5, 'y': 23.385301},\n",
      "                          'eye_left': {'x': 55.307, 'y': 22.165234},\n",
      "                          'eye_right': {'x': 57.531, 'y': 22.128151},\n",
      "                          'height': 6.23608,\n",
      "                          'mouth_left': {'x': 55.59, 'y': 25.021158},\n",
      "                          'mouth_right': {'x': 57.5015, 'y': 24.946102},\n",
      "                          'nose': {'x': 56.3695, 'y': 23.564588},\n",
      "                          'width': 4.666667},\n",
      "             'tag': ''}],\n",
      "   'img_height': 487,\n",
      "   'img_id': '86ba89f94ccbba9df748bfdc1cc0194d',\n",
      "   'img_width': 650,\n",
      "   'session_id': '43f577b3f61d4eb7aa11a22823b0c5e1',\n",
      "   'url': None}\n"
     ]
    }
   ],
   "source": [
    "print_result(\"\", result)"
   ]
  },
  {
   "cell_type": "code",
   "execution_count": null,
   "metadata": {
    "collapsed": true
   },
   "outputs": [],
   "source": []
  }
 ],
 "metadata": {
  "kernelspec": {
   "display_name": "Python 2",
   "language": "python",
   "name": "python2"
  },
  "language_info": {
   "codemirror_mode": {
    "name": "ipython",
    "version": 2
   },
   "file_extension": ".py",
   "mimetype": "text/x-python",
   "name": "python",
   "nbconvert_exporter": "python",
   "pygments_lexer": "ipython2",
   "version": "2.7.12"
  }
 },
 "nbformat": 4,
 "nbformat_minor": 0
}
