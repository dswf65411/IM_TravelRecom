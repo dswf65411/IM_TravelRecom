{
 "cells": [
  {
   "cell_type": "code",
   "execution_count": null,
   "metadata": {
    "collapsed": false
   },
   "outputs": [],
   "source": [
    "%cd /Users/yao/Desktop/TrueMan/big3/資管專題"
   ]
  },
  {
   "cell_type": "code",
   "execution_count": null,
   "metadata": {
    "collapsed": true
   },
   "outputs": [],
   "source": [
    "import json\n",
    "import requests\n",
    "import lxml\n",
    "import time\n",
    "from io import StringIO, BytesIO\n",
    "import lxml.etree\n",
    "import re\n",
    "import sys"
   ]
  },
  {
   "cell_type": "code",
   "execution_count": null,
   "metadata": {
    "collapsed": false,
    "scrolled": false
   },
   "outputs": [],
   "source": [
    "def parse_content(htmlin):\n",
    "    '''\n",
    "        input : str, raw html code\n",
    "        output: dict() , post_dictionary of posts' content and their link\n",
    "    '''\n",
    "    parser = lxml.etree.HTMLParser()\n",
    "    html = lxml.etree.parse(BytesIO(htmlin.encode('utf-8')), parser) \n",
    "    pdict_tmp = html.xpath(\"/html/body/script[@type='text/javascript']\")[0].text[21:-1]\n",
    "    pdict_tmp = re.sub(r\"\\bfalse\\b\",\"False\",pdict_tmp)  #is equal to '\\\\bfalse\\\\b'\n",
    "    pdict_tmp = re.sub(r\"\\btrue\\b\",\"True\",pdict_tmp)\n",
    "    pdict_tmp = re.sub(r\"\\bnull\\b\",\"None\",pdict_tmp)\n",
    "    pdict_tmp = eval(pdict_tmp)\n",
    "    return pdict_tmp"
   ]
  },
  {
   "cell_type": "code",
   "execution_count": null,
   "metadata": {
    "collapsed": true
   },
   "outputs": [],
   "source": [
    "def get_html_text(URL,rs=requests.session()):\n",
    "    '''\n",
    "        input : str, URL wanted to crawl\n",
    "        output: str, text of html code\n",
    "    '''\n",
    "    html1 = rs.get(URL)\n",
    "    html1.encoding = 'utf-8'\n",
    "    return html1.text"
   ]
  },
  {
   "cell_type": "code",
   "execution_count": null,
   "metadata": {
    "collapsed": true
   },
   "outputs": [],
   "source": [
    "def get_usrName_and_cmtList(tmp_code):\n",
    "    '''\n",
    "        input:  str, post_id's code, ex:\"BE3l0CKOvTr\".\n",
    "        output: tuple, (str,list), (this user's name,[comments on this posts]).\n",
    "    '''\n",
    "    getURL = \"https://www.instagram.com/p/%s/\"%(tmp_code)\n",
    "    result = get_html_text(getURL)\n",
    "    \n",
    "    usr_name = re.findall(\"See this Instagram photo by @([a-zA-Z0-9_\\.]*)\",result)\n",
    "    if len(usr_name) == 0:\n",
    "        usr_name = re.findall(\"See this Instagram video by @([a-zA-Z0-9_\\.]*)\",result)\n",
    "    else:\n",
    "        usr_name = usr_name[0]\n",
    "        \n",
    "    page_content = parse_content(result)\n",
    "    cmt_list = []\n",
    "    for cmt in  page_content['entry_data']['PostPage'][0]['media']['comments']['nodes']:\n",
    "        cmt_list.append(cmt['text'])\n",
    "    return (usr_name,cmt_list)"
   ]
  },
  {
   "cell_type": "code",
   "execution_count": null,
   "metadata": {
    "collapsed": false,
    "scrolled": false
   },
   "outputs": [],
   "source": [
    "def add_recent_posts(person,days=3):\n",
    "    '''\n",
    "        input : dict, this tag_post's dict.\n",
    "        output: dict, this tag_post's dict + it's recent posts.\n",
    "    '''\n",
    "    getURL = \"https://www.instagram.com/%s/\"%(person['username'])\n",
    "    pdict_tmp = parse_content(get_html_text(getURL))\n",
    "    page_tmp = pdict_tmp['entry_data']['ProfilePage'][0]['user']['media']['page_info']\n",
    "    over_7_days = False\n",
    "\n",
    "    for post in pdict_tmp['entry_data']['ProfilePage'][0]['user']['media']['nodes']:\n",
    "        if abs(post_time-post['date']) < 86400*days:  #7 days\n",
    "            (usrName,cmtList) = get_usrName_and_cmtList(post['code'])\n",
    "            post['comments']['contents'] = cmtList\n",
    "            post['username'] = usrName\n",
    "            if 'recent_posts' not in person:\n",
    "                person['recent_posts'] = [post]\n",
    "            else:\n",
    "                person['recent_posts'].append(post)\n",
    "\n",
    "    while page_tmp['has_next_page'] == True:\n",
    "        getURL = \"https://www.instagram.com/%s/?max_id=%s\"%(person['username'],page_tmp['end_cursor'])\n",
    "        pdict_tmp = parse_content(get_html_text(getURL))\n",
    "        page_tmp = pdict_tmp['entry_data']['ProfilePage'][0]['user']['media']['page_info']\n",
    "        over_7_days = False\n",
    "        for post in pdict_tmp['entry_data']['ProfilePage'][0]['user']['media']['nodes']:\n",
    "            if abs(post_time-post['date']) < 86400*days:  #7 days\n",
    "                (usrName,cmtList) = get_usrName_and_cmtList(post['code'])\n",
    "                post['comments']['contents'] = cmtList\n",
    "                post['username'] = usrName\n",
    "                if 'recent_posts' not in person:\n",
    "                    person['recent_posts'] = [post]\n",
    "                else:\n",
    "                    person['recent_posts'].append(post)\n",
    "            if post_time-post['date'] > 86400*days:\n",
    "                over_7_days = True\n",
    "                break\n",
    "        if over_7_days==True:\n",
    "            break\n",
    "    return person"
   ]
  },
  {
   "cell_type": "code",
   "execution_count": null,
   "metadata": {
    "collapsed": true
   },
   "outputs": [],
   "source": [
    "searchTag = \"馬子狗\""
   ]
  },
  {
   "cell_type": "code",
   "execution_count": null,
   "metadata": {
    "collapsed": false
   },
   "outputs": [],
   "source": [
    "getURL = \"https://www.instagram.com/explore/tags/%s/\"%(searchTag)\n",
    "rs = requests.session()\n",
    "result = get_html_text(getURL,rs)"
   ]
  },
  {
   "cell_type": "code",
   "execution_count": null,
   "metadata": {
    "collapsed": false
   },
   "outputs": [],
   "source": [
    "p_list = []   #all the post list\n",
    "pdict_tmp = parse_content(result)\n",
    "p_list.extend(pdict_tmp['entry_data']['TagPage'][0]['tag']['media']['nodes'])\n",
    "page_tmp = pdict_tmp['entry_data']['TagPage'][0]['tag']['media']['page_info']\n",
    "print(\"posts has crawl :\")\n",
    "while page_tmp['has_next_page'] == True:\n",
    "#     time.sleep(0.1)\n",
    "    getURL = \"https://www.instagram.com/explore/tags/%s/?max_id=%s\"%(searchTag,page_tmp['end_cursor'])\n",
    "    pdict_tmp = parse_content(get_html_text(getURL,rs))\n",
    "    p_list.extend(pdict_tmp['entry_data']['TagPage'][0]['tag']['media']['nodes'])\n",
    "    page_tmp = pdict_tmp['entry_data']['TagPage'][0]['tag']['media']['page_info']\n",
    "    sys.stdout.write(\"%d,\"%(len(p_list)))"
   ]
  },
  {
   "cell_type": "code",
   "execution_count": null,
   "metadata": {
    "collapsed": false
   },
   "outputs": [],
   "source": [
    "print(\"add near_posts for %d posts:\"%(len(p_list)))\n",
    "for i in range(len(p_list)):\n",
    "    tag_post_id = p_list[i]['code']\n",
    "    (usrName,cmtList) = get_usrName_and_cmtList(tag_post_id) #BE5QcuKNI9P\n",
    "    p_list[i]['comments']['contents'] = cmtList\n",
    "    p_list[i]['username'] = usrName\n",
    "    post_time = p_list[i]['date']\n",
    "    p_list[i] = add_recent_posts(p_list[i],3)\n",
    "    if i %10 == 0 :\n",
    "        sys.stdout.write(\"%d,\"%(i))"
   ]
  },
  {
   "cell_type": "code",
   "execution_count": null,
   "metadata": {
    "collapsed": false
   },
   "outputs": [],
   "source": [
    "p_final = []\n",
    "for post in p_list:\n",
    "    p_tmp = {'main_post':{},'near_posts':[]}\n",
    "    p_tmp['main_post']['content'] = post['caption']\n",
    "    p_tmp['main_post']['comments'] = post['comments']['contents']\n",
    "    p_tmp['main_post']['date'] = post['date']\n",
    "    for npost in post['recent_posts']:\n",
    "        npost_dic = {}\n",
    "        if npost['date'] != p_tmp['main_post']['date'] :\n",
    "            try:\n",
    "                npost_dic['content'] = npost['caption']\n",
    "            except:\n",
    "                npost_dic['content'] = []\n",
    "            npost_dic['date'] = npost['date']\n",
    "            npost_dic['comments'] = npost['comments']['contents']\n",
    "            p_tmp['near_posts'].append(npost_dic)\n",
    "    p_final.append(p_tmp)"
   ]
  },
  {
   "cell_type": "code",
   "execution_count": null,
   "metadata": {
    "collapsed": false
   },
   "outputs": [],
   "source": [
    "with open(\"IG_%s.txt\"%(searchTag),'w') as f1:\n",
    "    f1.write(str(p_final))"
   ]
  },
  {
   "cell_type": "code",
   "execution_count": null,
   "metadata": {
    "collapsed": false
   },
   "outputs": [],
   "source": [
    "# read usage:\n",
    "# with open(\"IG_%s.txt\"%(searchTag),'r') as f1:\n",
    "#     list_input = eval(f1.read())"
   ]
  }
 ],
 "metadata": {
  "kernelspec": {
   "display_name": "Python 3",
   "language": "python",
   "name": "python3"
  },
  "language_info": {
   "codemirror_mode": {
    "name": "ipython",
    "version": 3
   },
   "file_extension": ".py",
   "mimetype": "text/x-python",
   "name": "python",
   "nbconvert_exporter": "python",
   "pygments_lexer": "ipython3",
   "version": "3.5.0"
  }
 },
 "nbformat": 4,
 "nbformat_minor": 0
}
