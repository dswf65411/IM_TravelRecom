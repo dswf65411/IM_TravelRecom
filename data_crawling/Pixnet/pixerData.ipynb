{
 "cells": [
  {
   "cell_type": "code",
   "execution_count": 28,
   "metadata": {
    "collapsed": true
   },
   "outputs": [],
   "source": [
    "import json\n",
    "import requests\n",
    "import lxml\n",
    "import time\n",
    "from io import StringIO, BytesIO\n",
    "import lxml.etree"
   ]
  },
  {
   "cell_type": "code",
   "execution_count": 35,
   "metadata": {
    "collapsed": true
   },
   "outputs": [],
   "source": [
    "searchTag = \"牛肉湯\""
   ]
  },
  {
   "cell_type": "code",
   "execution_count": 38,
   "metadata": {
    "collapsed": false
   },
   "outputs": [],
   "source": [
    "resultList = []\n",
    "rs = requests.session()\n",
    "parser = lxml.etree.HTMLParser()\n",
    "for i in range(20):\n",
    "    URLhere=\"https://www.pixnet.net/searcharticle?q=%E5%8F%B0%E5%8D%97%E6%97%85%E9%81%8A%E6%99%AF%E9%BB%9E&page=\" + str(i+1)\n",
    "    result = rs.get(URLhere)\n",
    "    result.encoding = \"utf-8\"\n",
    "    result = result.text\n",
    "    html = lxml.etree.parse(BytesIO(result.encode('utf-8')), parser)\n",
    "    for li in html.xpath(\"/html/body/div[@id='container1']/div/div[@id='container3']/div[@id='main']/div/div[@class='search-article']/div[@class='bin-main-search']/div[@class='inner']/ol[@class='search-result']/li\"):\n",
    "        taga = li.xpath(\"ul/li[@class='search-title']/a\")[0]\n",
    "        contentURL = taga.get('href')\n",
    "        result = rs.get(contentURL)\n",
    "        result.encoding = \"utf-8\"\n",
    "        result = result.text\n",
    "        html1 = lxml.etree.parse(BytesIO(result.encode('utf-8')), parser)\n",
    "        newtagaURL = html1.xpath(\"/html/head/meta\")[1]\n",
    "        newtagaURL = newtagaURL.get('content').split('=')[1]\n",
    "        result = rs.get(newtagaURL)\n",
    "        result.encoding = \"utf-8\"\n",
    "        result = result.text\n",
    "        html2 = lxml.etree.parse(BytesIO(result.encode('utf-8')), parser)\n",
    "        finalContent = str(\"\".join(html2.xpath(u\"//div[@class='article-content-inner']/descendant::text()\")))\n",
    "        resultText = taga.get('title') + \"\\n\" + finalContent.replace('\\n','')\n",
    "        if searchWord in resultText:\n",
    "            resultList.append(resultText)"
   ]
  },
  {
   "cell_type": "code",
   "execution_count": null,
   "metadata": {
    "collapsed": true
   },
   "outputs": [],
   "source": [
    "with open(\"pixer_%s.txt\"%(searchTag),'w') as f1:\n",
    "    f1.write(str(resultList))"
   ]
  },
  {
   "cell_type": "code",
   "execution_count": null,
   "metadata": {
    "collapsed": false
   },
   "outputs": [],
   "source": []
  }
 ],
 "metadata": {
  "kernelspec": {
   "display_name": "Python 3",
   "language": "python",
   "name": "python3"
  },
  "language_info": {
   "codemirror_mode": {
    "name": "ipython",
    "version": 3
   },
   "file_extension": ".py",
   "mimetype": "text/x-python",
   "name": "python",
   "nbconvert_exporter": "python",
   "pygments_lexer": "ipython3",
   "version": "3.5.1"
  }
 },
 "nbformat": 4,
 "nbformat_minor": 0
}
